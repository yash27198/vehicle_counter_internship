{
 "cells": [
  {
   "cell_type": "code",
   "execution_count": 3,
   "metadata": {},
   "outputs": [],
   "source": [
    "import cv2\n",
    "import time"
   ]
  },
  {
   "cell_type": "code",
   "execution_count": 1,
   "metadata": {},
   "outputs": [],
   "source": [
    "import cv2\n",
    "\n",
    "\n",
    "vidCap = cv2.VideoCapture('/Users/yash/Desktop/pdpu/Videos/20201230123300.mp4')\n",
    "\n",
    "\n",
    "BS_KNN = cv2.createBackgroundSubtractorKNN()\n",
    "BS_MOG2 = cv2.createBackgroundSubtractorMOG2()\n",
    "\n",
    "vehile = 0\n",
    "validVehiles = []\n",
    "while vidCap.isOpened():\n",
    "    ret, frame = vidCap.read() \n",
    "\n",
    "   \n",
    "    fgMask = BS_MOG2.apply(frame)\n",
    "    \n",
    "   \n",
    "    cv2.line(frame, (220,500), (1600,500), (0,0,255), 2) \n",
    "    cv2.line(frame, (220,490), (1600,490), (0,255,0), 1)\n",
    "    cv2.line(frame, (220,510), (1600,510), (0,255,0), 1) \n",
    "    \n",
    "    \n",
    "    conts, _ = cv2.findContours(fgMask, cv2.RETR_LIST, cv2.CHAIN_APPROX_SIMPLE)\n",
    "    \n",
    "    for c in conts:\n",
    "        x, y, w, h = cv2.boundingRect(c)\n",
    "        \n",
    "        \n",
    "        visibleVehile = (w > 70) and (h > 50)\n",
    "        if not visibleVehile:\n",
    "            continue\n",
    "        \n",
    "       \n",
    "        if x > 100 and x < 1500 and y > 100:\n",
    "           \n",
    "            cv2.rectangle(frame, (x,y), (x+w, y+h), (0,255,0), 3)\n",
    "            xMid = int((x + (x+w))/2)\n",
    "            yMid = int((y + (y+h))/2)\n",
    "            cv2.circle(frame, (xMid,yMid),5,(0,0,255),5)\n",
    "\n",
    "           \n",
    "            validVehiles.append((xMid,yMid))\n",
    "\n",
    "\n",
    "            for (vX, vY) in validVehiles:\n",
    "                if vY > 250 and vY < 300: \n",
    "                    vehile += 1\n",
    "                    validVehiles.remove((vX,vY))\n",
    "                   \n",
    "   \n",
    "    cv2.imshow('Foreground Mask', fgMask)\n",
    "    cv2.putText(frame, 'Total Vehiles : {}'.format(vehile), (450, 50), cv2.FONT_HERSHEY_PLAIN, 5, (255,255,255), 5)\n",
    "    cv2.imshow('Original Video', frame)\n",
    "    \n",
    "    \n",
    "    if cv2.waitKey(1) & 0xFF == ord('q'):\n",
    "        break\n",
    "\n",
    "\n",
    "cv2.destroyAllWindows()\n",
    "vidCap.release()\n"
   ]
  },
  {
   "cell_type": "markdown",
   "metadata": {},
   "source": []
  }
 ],
 "metadata": {
  "kernelspec": {
   "display_name": "Python 3",
   "language": "python",
   "name": "python3"
  },
  "language_info": {
   "codemirror_mode": {
    "name": "ipython",
    "version": 3
   },
   "file_extension": ".py",
   "mimetype": "text/x-python",
   "name": "python",
   "nbconvert_exporter": "python",
   "pygments_lexer": "ipython3",
   "version": "3.8.3"
  }
 },
 "nbformat": 4,
 "nbformat_minor": 4
}
